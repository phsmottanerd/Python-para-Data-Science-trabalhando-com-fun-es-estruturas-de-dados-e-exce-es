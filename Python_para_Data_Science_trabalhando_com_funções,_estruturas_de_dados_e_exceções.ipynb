{
  "nbformat": 4,
  "nbformat_minor": 0,
  "metadata": {
    "colab": {
      "provenance": []
    },
    "kernelspec": {
      "name": "python3",
      "display_name": "Python 3"
    },
    "language_info": {
      "name": "python"
    }
  },
  "cells": [
    {
      "cell_type": "markdown",
      "source": [],
      "metadata": {
        "id": "EnJxEX5Simhg"
      }
    },
    {
      "cell_type": "code",
      "source": [],
      "metadata": {
        "id": "OO81LmeJTKEK"
      },
      "execution_count": null,
      "outputs": []
    },
    {
      "cell_type": "code",
      "source": [],
      "metadata": {
        "id": "s2-VXjnHTKJT"
      },
      "execution_count": null,
      "outputs": []
    },
    {
      "cell_type": "code",
      "source": [
        "import matplotlib\n",
        "print(matplotlib.__version__)\n"
      ],
      "metadata": {
        "colab": {
          "base_uri": "https://localhost:8080/"
        },
        "id": "THT_qggI6Xq8",
        "outputId": "de279c77-e137-4c59-eaa4-d6fb49fb567c"
      },
      "execution_count": null,
      "outputs": [
        {
          "output_type": "stream",
          "name": "stdout",
          "text": [
            "3.10.0\n"
          ]
        }
      ]
    },
    {
      "cell_type": "code",
      "source": [
        "import matplotlib.pyplot as plt\n"
      ],
      "metadata": {
        "id": "cKz4tbCx7Jrx"
      },
      "execution_count": null,
      "outputs": []
    },
    {
      "cell_type": "code",
      "execution_count": null,
      "metadata": {
        "id": "U7Poy0iQ2b71"
      },
      "outputs": [],
      "source": [
        "import  matplotlib as plt"
      ]
    },
    {
      "cell_type": "code",
      "source": [
        "estudantes =[\"João\",\"Maria\",\"José\"]\n",
        "notas =[8.5,9,6.5]"
      ],
      "metadata": {
        "id": "7cTp-T2v3ilC"
      },
      "execution_count": null,
      "outputs": []
    },
    {
      "cell_type": "code",
      "source": [
        "plt . bar( x = estudantes, height = notas)"
      ],
      "metadata": {
        "colab": {
          "base_uri": "https://localhost:8080/",
          "height": 447
        },
        "id": "GpGsU9Xe3ijM",
        "outputId": "e5cf5e4e-c4f3-41c9-e52d-1ac697318cbf"
      },
      "execution_count": null,
      "outputs": [
        {
          "output_type": "execute_result",
          "data": {
            "text/plain": [
              "<BarContainer object of 3 artists>"
            ]
          },
          "metadata": {},
          "execution_count": 19
        },
        {
          "output_type": "display_data",
          "data": {
            "text/plain": [
              "<Figure size 640x480 with 1 Axes>"
            ],
            "image/png": "[encoded data removed]"
          },
          "metadata": {}
        }
      ]
    },
    {
      "cell_type": "markdown",
      "source": [],
      "metadata": {
        "id": "gYsyG5mhJF-W"
      }
    },
    {
      "cell_type": "markdown",
      "source": [],
      "metadata": {
        "id": "3VtRVTs0JGT-"
      }
    },
    {
      "cell_type": "code",
      "source": [],
      "metadata": {
        "id": "sTYgkqWhJGfB"
      },
      "execution_count": null,
      "outputs": []
    },
    {
      "cell_type": "markdown",
      "source": [],
      "metadata": {
        "id": "1DlpZlzGJIV9"
      }
    },
    {
      "cell_type": "markdown",
      "source": [
        "Unsando a blibioteca random\n"
      ],
      "metadata": {
        "id": "eWOtMyWp9b7r"
      }
    },
    {
      "cell_type": "code",
      "source": [
        "estudantes_2 =[\"João\",\"Maria\",\"José\",\"Ana\"]\n"
      ],
      "metadata": {
        "id": "iwyZ6CT99k0S"
      },
      "execution_count": null,
      "outputs": []
    },
    {
      "cell_type": "code",
      "source": [
        " # Importar  uma função específica de uma bibliotaca\n",
        "from random import choice\n"
      ],
      "metadata": {
        "id": "y0z72Ug793D2"
      },
      "execution_count": null,
      "outputs": []
    },
    {
      "cell_type": "code",
      "source": [
        "estudante = choice(estudantes_2)\n",
        "estudante"
      ],
      "metadata": {
        "colab": {
          "base_uri": "https://localhost:8080/",
          "height": 35
        },
        "id": "EP-CyRZa_-fd",
        "outputId": "f6903fdd-9a5b-4fa8-cf0c-c5d6a3b388c8"
      },
      "execution_count": null,
      "outputs": [
        {
          "output_type": "execute_result",
          "data": {
            "text/plain": [
              "'Maria'"
            ],
            "application/vnd.google.colaboratory.intrinsic+json": {
              "type": "string"
            }
          },
          "metadata": {},
          "execution_count": 40
        }
      ]
    },
    {
      "cell_type": "markdown",
      "source": [
        "Funçôes"
      ],
      "metadata": {
        "id": "DRBM1nUPC3SE"
      }
    },
    {
      "cell_type": "code",
      "source": [
        "#Notas do(a) Estudante\n",
        "notas ={'1°Trimestre':8.5,'2°Trimestre':9.5,'3°Trimestre':7}\n",
        "notas"
      ],
      "metadata": {
        "colab": {
          "base_uri": "https://localhost:8080/"
        },
        "id": "Kp--SZ87ByHw",
        "outputId": "e2fe77aa-d1c0-4579-c5cc-abbe6ee12156"
      },
      "execution_count": null,
      "outputs": [
        {
          "output_type": "execute_result",
          "data": {
            "text/plain": [
              "{'1°Trimestre': 8.5, '2°Trimestre': 9.5, '3°Trimestre': 7}"
            ]
          },
          "metadata": {},
          "execution_count": 15
        }
      ]
    },
    {
      "cell_type": "code",
      "source": [
        "soma = 0\n",
        "\n",
        "for nota in notas.values():\n",
        "    soma += nota\n",
        "\n",
        "soma"
      ],
      "metadata": {
        "colab": {
          "base_uri": "https://localhost:8080/"
        },
        "id": "ZA_csIyeD94h",
        "outputId": "332f43ad-1036-4146-ad85-17915fc8cfed"
      },
      "execution_count": null,
      "outputs": [
        {
          "output_type": "execute_result",
          "data": {
            "text/plain": [
              "25.0"
            ]
          },
          "metadata": {},
          "execution_count": 16
        }
      ]
    },
    {
      "cell_type": "code",
      "source": [
        "# Usando a função embutida sum()\n",
        "somatorio = sum(notas.values())\n",
        "somatorio"
      ],
      "metadata": {
        "colab": {
          "base_uri": "https://localhost:8080/"
        },
        "id": "qgiL1qlqFuEd",
        "outputId": "30e29d14-e0ad-4113-cc31-7a78494f5900"
      },
      "execution_count": null,
      "outputs": [
        {
          "output_type": "execute_result",
          "data": {
            "text/plain": [
              "25.0"
            ]
          },
          "metadata": {},
          "execution_count": 17
        }
      ]
    },
    {
      "cell_type": "code",
      "source": [
        " # Usando a função embutida len()\n",
        "qtd_notas =len(notas)\n",
        "qtd_notas"
      ],
      "metadata": {
        "colab": {
          "base_uri": "https://localhost:8080/"
        },
        "id": "pxqJ-CbVG_-z",
        "outputId": "dc9e1040-751f-40e5-c51e-b71e55bda488"
      },
      "execution_count": null,
      "outputs": [
        {
          "output_type": "execute_result",
          "data": {
            "text/plain": [
              "3"
            ]
          },
          "metadata": {},
          "execution_count": 18
        }
      ]
    },
    {
      "cell_type": "markdown",
      "source": [
        "Arredondar a média usando Round():"
      ],
      "metadata": {
        "id": "pFqpOuFEIFjm"
      }
    },
    {
      "cell_type": "code",
      "source": [],
      "metadata": {
        "id": "EcVN17yh-5zR"
      },
      "execution_count": null,
      "outputs": []
    },
    {
      "cell_type": "code",
      "source": [
        "media = somatorio / qtd_notas\n",
        "media = round(media, 1)\n",
        "print(media)"
      ],
      "metadata": {
        "colab": {
          "base_uri": "https://localhost:8080/"
        },
        "id": "Ixd77kbWH8hW",
        "outputId": "15f3cfb3-3930-426a-d4fc-f70ab6ddcd41"
      },
      "execution_count": null,
      "outputs": [
        {
          "output_type": "stream",
          "name": "stdout",
          "text": [
            "8.3\n"
          ]
        }
      ]
    },
    {
      "cell_type": "markdown",
      "source": [
        "Funçôes\n"
      ],
      "metadata": {
        "id": "ZDz3oPOQi6Ye"
      }
    },
    {
      "cell_type": "markdown",
      "source": [
        "def <nome>\n",
        "<instruções>"
      ],
      "metadata": {
        "id": "uLoc5MWeNe9C"
      }
    },
    {
      "cell_type": "code",
      "source": [
        "def media():\n",
        "    calculo = (10 + 9 + 8) / 3\n",
        "    return calculo\n",
        "print(resultado)"
      ],
      "metadata": {
        "colab": {
          "base_uri": "https://localhost:8080/"
        },
        "id": "6tbzTV81M6Ik",
        "outputId": "3f79fd01-140c-4786-b7d1-c19e0c333a73"
      },
      "execution_count": null,
      "outputs": [
        {
          "output_type": "stream",
          "name": "stdout",
          "text": [
            "9.0\n"
          ]
        }
      ]
    },
    {
      "cell_type": "code",
      "source": [
        "media()"
      ],
      "metadata": {
        "colab": {
          "base_uri": "https://localhost:8080/"
        },
        "id": "iz-AqzL1OHCA",
        "outputId": "641535b1-969c-4a61-f38c-14d95520fd30"
      },
      "execution_count": null,
      "outputs": [
        {
          "output_type": "execute_result",
          "data": {
            "text/plain": [
              "9.0"
            ]
          },
          "metadata": {},
          "execution_count": 33
        }
      ]
    },
    {
      "cell_type": "markdown",
      "source": [],
      "metadata": {
        "id": "WixGFd3vPerG"
      }
    },
    {
      "cell_type": "markdown",
      "source": [
        "Funções comm parâmetros\n"
      ],
      "metadata": {
        "id": "vJcOxLgzPhUN"
      }
    },
    {
      "cell_type": "markdown",
      "source": [
        "def nomew(<param1>),(<param2>),...,(<param n>),\n",
        "<instruçôes>"
      ],
      "metadata": {
        "id": "W4xI6-wfQNqR"
      }
    },
    {
      "cell_type": "code",
      "source": [
        "def media(nota_1,nota_2,nota_3):\n",
        "  calculo =(nota_1+nota_2 +nota_3)/3\n",
        "  print(calculo)"
      ],
      "metadata": {
        "id": "KKppYHJSQPoZ"
      },
      "execution_count": null,
      "outputs": []
    },
    {
      "cell_type": "code",
      "source": [
        "media(3 ,6 ,9)"
      ],
      "metadata": {
        "colab": {
          "base_uri": "https://localhost:8080/"
        },
        "id": "-S1Gd3s7TPsp",
        "outputId": "07cdd9a9-ec0b-4a39-fa33-67bed50d629a"
      },
      "execution_count": null,
      "outputs": [
        {
          "output_type": "stream",
          "name": "stdout",
          "text": [
            "6.0\n"
          ]
        }
      ]
    },
    {
      "cell_type": "code",
      "source": [
        "nota1 = 8\n",
        "nota2= 7\n",
        "nota3 = 6\n",
        "media(nota_1= nota1, nota_2 = nota2, nota_3= nota3)"
      ],
      "metadata": {
        "colab": {
          "base_uri": "https://localhost:8080/"
        },
        "id": "vnSXiJPhThU5",
        "outputId": "78e0ddee-f9d4-4567-9960-01f9102dd663"
      },
      "execution_count": null,
      "outputs": [
        {
          "output_type": "stream",
          "name": "stdout",
          "text": [
            "7.0\n"
          ]
        }
      ]
    },
    {
      "cell_type": "code",
      "source": [
        "  #Notas do estudadante(a)\n",
        "notas=[8.5 ,9.0, 6.0 ,10.0]\n",
        "\n",
        "\n"
      ],
      "metadata": {
        "id": "CcqWkPZAUdbW"
      },
      "execution_count": null,
      "outputs": []
    },
    {
      "cell_type": "code",
      "source": [
        "def media(lista):\n",
        " calculo = sum(lista) /len(lista)\n",
        " print(calculo)"
      ],
      "metadata": {
        "id": "26cR5WvvUy26"
      },
      "execution_count": null,
      "outputs": []
    },
    {
      "cell_type": "code",
      "source": [
        " media (notas)"
      ],
      "metadata": {
        "colab": {
          "base_uri": "https://localhost:8080/"
        },
        "id": "WTASyrNJVMmM",
        "outputId": "af0abd05-534a-4b47-8323-a85b0cd25cdb"
      },
      "execution_count": null,
      "outputs": [
        {
          "output_type": "stream",
          "name": "stdout",
          "text": [
            "8.375\n"
          ]
        }
      ]
    },
    {
      "cell_type": "code",
      "source": [
        "resultado =media(notas)"
      ],
      "metadata": {
        "colab": {
          "base_uri": "https://localhost:8080/"
        },
        "id": "PSvAi0WsVyqg",
        "outputId": "7186f877-e752-4327-eda3-e4dcc5d3a9e5"
      },
      "execution_count": null,
      "outputs": [
        {
          "output_type": "stream",
          "name": "stdout",
          "text": [
            "8.375\n"
          ]
        }
      ]
    },
    {
      "cell_type": "code",
      "source": [
        "resultado"
      ],
      "metadata": {
        "id": "RNCyObT9VyoK"
      },
      "execution_count": null,
      "outputs": []
    },
    {
      "cell_type": "code",
      "source": [
        "type(resultado)"
      ],
      "metadata": {
        "colab": {
          "base_uri": "https://localhost:8080/"
        },
        "id": "7CBqVKcHV5up",
        "outputId": "ab0aa61b-0ecc-49e5-a8cb-f0273d0b3d70"
      },
      "execution_count": null,
      "outputs": [
        {
          "output_type": "execute_result",
          "data": {
            "text/plain": [
              "NoneType"
            ]
          },
          "metadata": {},
          "execution_count": 62
        }
      ]
    },
    {
      "cell_type": "code",
      "source": [
        "#Notas do estudadante(a)\n",
        "notas=[8.5 ,9.0, 6.0 ,10.0]\n",
        "\n"
      ],
      "metadata": {
        "id": "RpJ7aBm5W1s_"
      },
      "execution_count": null,
      "outputs": []
    },
    {
      "cell_type": "code",
      "source": [
        "def media(lista):\n",
        "  calculo =sum(lista) / len (lista)\n",
        "  return calculo"
      ],
      "metadata": {
        "id": "I832k9LAW3wA"
      },
      "execution_count": null,
      "outputs": []
    },
    {
      "cell_type": "code",
      "source": [
        "resultado =media(notas)"
      ],
      "metadata": {
        "id": "iT4-ZZQyXM83"
      },
      "execution_count": null,
      "outputs": []
    },
    {
      "cell_type": "code",
      "source": [
        "resultado"
      ],
      "metadata": {
        "colab": {
          "base_uri": "https://localhost:8080/"
        },
        "id": "IA_UFv0eXeDK",
        "outputId": "cc756b66-7a1a-4966-bdd3-c1dc2900e5c6"
      },
      "execution_count": null,
      "outputs": [
        {
          "output_type": "execute_result",
          "data": {
            "text/plain": [
              "8.375"
            ]
          },
          "metadata": {},
          "execution_count": 68
        }
      ]
    },
    {
      "cell_type": "markdown",
      "source": [
        "Situação 3: Recebemos uma nova demanda, desta vez, de calcular a média de um estudante a partir de uma lista e retornar tanto a média quanto a situação do estudante (\"Aprovado(a)\" se a nota for maior ou igual a 6.0, caso contrário, será \"Reprovado(a)\"). Além disso, precisamos exibir um pequeno texto em que indicamos a média do(a) estudante e qual a situação. Os dados recebidos correspondem a uma lista contendo apenas as notas de um estudante em uma dada matéria."
      ],
      "metadata": {
        "id": "N_fPrmowXz6F"
      }
    },
    {
      "cell_type": "code",
      "source": [
        "  #Notas dos estudantes(a)\n",
        "notas =[ 6.0,7.0,9.0,5.0]"
      ],
      "metadata": {
        "id": "cp8B0AfaXlJI"
      },
      "execution_count": null,
      "outputs": []
    },
    {
      "cell_type": "code",
      "source": [
        "def boletim(lista):\n",
        "    media = sum(lista) / len(lista)  # cálculo correto da média\n",
        "\n",
        "    if media >= 6:\n",
        "        situacao = \"Aprovado(a)\"     # atribuição correta com \"=\"\n",
        "    else:\n",
        "        situacao = \"Reprovado(a)\"\n",
        "\n",
        "    return (media, situacao)\n"
      ],
      "metadata": {
        "id": "hkuDO2PdX0-9"
      },
      "execution_count": null,
      "outputs": []
    },
    {
      "cell_type": "code",
      "source": [
        "boletim(notas)"
      ],
      "metadata": {
        "colab": {
          "base_uri": "https://localhost:8080/"
        },
        "id": "ByjZEe20dYsA",
        "outputId": "00b42376-b07a-45c2-e10b-ab49ef7fafd5"
      },
      "execution_count": null,
      "outputs": [
        {
          "output_type": "execute_result",
          "data": {
            "text/plain": [
              "(6.75, 'Aprovado(a)')"
            ]
          },
          "metadata": {},
          "execution_count": 6
        }
      ]
    },
    {
      "cell_type": "code",
      "source": [
        "media,situacao =boletim(notas)"
      ],
      "metadata": {
        "id": "qNmHCWeZdnse"
      },
      "execution_count": null,
      "outputs": []
    },
    {
      "cell_type": "code",
      "source": [
        "media"
      ],
      "metadata": {
        "colab": {
          "base_uri": "https://localhost:8080/"
        },
        "id": "Q_1MB_4CdnqE",
        "outputId": "c51af075-cead-48d4-9c58-3d22a5002583"
      },
      "execution_count": null,
      "outputs": [
        {
          "output_type": "execute_result",
          "data": {
            "text/plain": [
              "6.75"
            ]
          },
          "metadata": {},
          "execution_count": 8
        }
      ]
    },
    {
      "cell_type": "code",
      "source": [
        "situacao"
      ],
      "metadata": {
        "colab": {
          "base_uri": "https://localhost:8080/",
          "height": 35
        },
        "id": "H1x-56Swd56c",
        "outputId": "6a31316b-29cd-4fc0-98c0-6f638419e114"
      },
      "execution_count": null,
      "outputs": [
        {
          "output_type": "execute_result",
          "data": {
            "text/plain": [
              "'Aprovado(a)'"
            ],
            "application/vnd.google.colaboratory.intrinsic+json": {
              "type": "string"
            }
          },
          "metadata": {},
          "execution_count": 9
        }
      ]
    },
    {
      "cell_type": "code",
      "source": [
        "print(f'O(a) estudante atingiu uma média de {media} e foi {situacao}.' )"
      ],
      "metadata": {
        "colab": {
          "base_uri": "https://localhost:8080/"
        },
        "id": "Rw-91rUyeEVl",
        "outputId": "0f2fe42c-df0c-4586-f017-dc4f15fe3bb1"
      },
      "execution_count": null,
      "outputs": [
        {
          "output_type": "stream",
          "name": "stdout",
          "text": [
            "O(a) estudante atingiu uma média de 6.75 e foi Aprovado(a).\n"
          ]
        }
      ]
    },
    {
      "cell_type": "markdown",
      "source": [
        "Situação 4: Nesta nova demanda, precisamos criar uma calculadora simples da média ponderada de notas de uma dada matéria. Vamos requisitar ao usuário a entrada das 3 notas (N1, N2, N3) do estudante e devolver a média ponderada deste estudante. Os pesos das notas são de, respectivamente 3, 2, 5. Precisamos exibir um pequeno texto em que indicamos a média do(a) estudante. Vamos resolver esse desafio?"
      ],
      "metadata": {
        "id": "FQSCHH8hWUrO"
      }
    },
    {
      "cell_type": "code",
      "source": [
        "#Compsrando uma função de qualitativo no formato e função para função anônima\n",
        "nota = float(input(\"Digite anota do(a) estudante: \"))\n",
        "\n",
        "def quakitativo(x):\n",
        "  return x + 0.5\n",
        "\n",
        "  qualitativo(nota)"
      ],
      "metadata": {
        "id": "H8ghaQpVWXTw",
        "colab": {
          "base_uri": "https://localhost:8080/"
        },
        "outputId": "d671309a-fb38-4d33-c5de-4d3cb271af85"
      },
      "execution_count": null,
      "outputs": [
        {
          "name": "stdout",
          "output_type": "stream",
          "text": [
            "Digite anota do(a) estudante: 8\n"
          ]
        }
      ]
    },
    {
      "cell_type": "code",
      "source": [
        "nota = float(input(\"Digite anota do(a) estudante: \"))\n",
        "\n",
        "qualitativo =lambda x:x+ 0.5\n",
        "\n",
        "qualitativo(nota)"
      ],
      "metadata": {
        "id": "ntyBMBQQXKDc",
        "colab": {
          "base_uri": "https://localhost:8080/"
        },
        "outputId": "2e029f6d-1667-4e9f-c1e5-181c193431c7"
      },
      "execution_count": null,
      "outputs": [
        {
          "name": "stdout",
          "output_type": "stream",
          "text": [
            "Digite anota do(a) estudante: 8\n"
          ]
        },
        {
          "output_type": "execute_result",
          "data": {
            "text/plain": [
              "8.5"
            ]
          },
          "metadata": {},
          "execution_count": 25
        }
      ]
    },
    {
      "cell_type": "code",
      "source": [
        " #Recebendo as notas e calculando amédia ponderável\n",
        "N1 = float(input(\"Digite a 1° nota do(a) estudante: \"))\n",
        "N2 = float(input(\"Digite a 2° nota do(a) estudante: \"))\n",
        "N3 = float(input(\"Digite a 3° nota do(a) estudante: \"))\n",
        "\n",
        "media_poderavel = lambda x, y, z: (x * 3 + y * 2 + z * 5) / 10\n",
        "media_estudante = media_poderavel(N1, N2, N3)\n",
        "media_estudante"
      ],
      "metadata": {
        "colab": {
          "base_uri": "https://localhost:8080/"
        },
        "id": "F6hRtgSGYXDw",
        "outputId": "3312c8fc-bf31-4009-b828-df95c10fceb5"
      },
      "execution_count": null,
      "outputs": [
        {
          "name": "stdout",
          "output_type": "stream",
          "text": [
            "Digite a 1° nota do(a) estudante: 8\n",
            "Digite a 2° nota do(a) estudante: 5\n",
            "Digite a 3° nota do(a) estudante: 9\n"
          ]
        },
        {
          "output_type": "execute_result",
          "data": {
            "text/plain": [
              "7.9"
            ]
          },
          "metadata": {},
          "execution_count": 28
        }
      ]
    },
    {
      "cell_type": "code",
      "source": [
        "#Exibindo a média\n",
        "print(f'O(a) estudante atingiu uma média de {media_estudante}')"
      ],
      "metadata": {
        "colab": {
          "base_uri": "https://localhost:8080/"
        },
        "id": "G3xvTemvZwOG",
        "outputId": "0540bd84-cc16-4729-c117-3286d874aedb"
      },
      "execution_count": null,
      "outputs": [
        {
          "output_type": "stream",
          "name": "stdout",
          "text": [
            "O(a) estudante atingiu uma média de 7.9\n"
          ]
        }
      ]
    },
    {
      "cell_type": "markdown",
      "source": [
        "map(<lambda function ,<iterador>)"
      ],
      "metadata": {
        "id": "um4eU2p6fLVu"
      }
    },
    {
      "cell_type": "markdown",
      "source": [
        "Situação 5: Recebemos mais uma demanda, desta vez, para criar uma pequena função que pudesse adicionar qualitativo (pontuação extra) às notas do trimestre dos estudantes da turma que ganhou a gincana de programação promovida pela escola. Cada estudante receberá o qualitativo de 0.5 acrescido à média. Os dados recebidos correspondem a uma lista contendo as notas de alguns estudantes e uma variável com o qualitativo recebido.\n",
        "\n",
        "Vamos resolver esse desafio? Para facilitar o nosso entendimento do processo vamos aplicar o qualitativo às notas de 5 estudantes, mas você pode testar outros casos para treinar.\n"
      ],
      "metadata": {
        "id": "sHFsRNNKfQG9"
      }
    },
    {
      "cell_type": "code",
      "source": [
        "#notas do(a) estudante\n",
        "notas =[6.0, 7.0,9.0, 5.5, 8.0]\n",
        "qualitativo = 0.5"
      ],
      "metadata": {
        "id": "FaHZ7_u0fZsP"
      },
      "execution_count": null,
      "outputs": []
    },
    {
      "cell_type": "code",
      "source": [
        "notas_atualizadas =lambda x: x + qualitativo\n",
        "notas_atualizadas(notas)"
      ],
      "metadata": {
        "colab": {
          "base_uri": "https://localhost:8080/",
          "height": 228
        },
        "id": "oUXJPtVGgKP1",
        "outputId": "e1b0e239-fd24-4c90-a499-8b15c1be1e7f"
      },
      "execution_count": null,
      "outputs": [
        {
          "output_type": "error",
          "ename": "TypeError",
          "evalue": "can only concatenate list (not \"float\") to list",
          "traceback": [
            "\u001b[0;31m---------------------------------------------------------------------------\u001b[0m",
            "\u001b[0;31mTypeError\u001b[0m                                 Traceback (most recent call last)",
            "\u001b[0;32m<ipython-input-31-2c66808872e6>\u001b[0m in \u001b[0;36m<cell line: 0>\u001b[0;34m()\u001b[0m\n\u001b[1;32m      1\u001b[0m \u001b[0mnotas_atualizadas\u001b[0m \u001b[0;34m=\u001b[0m\u001b[0;32mlambda\u001b[0m \u001b[0mx\u001b[0m\u001b[0;34m:\u001b[0m \u001b[0mx\u001b[0m \u001b[0;34m+\u001b[0m \u001b[0mqualitativo\u001b[0m\u001b[0;34m\u001b[0m\u001b[0;34m\u001b[0m\u001b[0m\n\u001b[0;32m----> 2\u001b[0;31m \u001b[0mnotas_atualizadas\u001b[0m\u001b[0;34m(\u001b[0m\u001b[0mnotas\u001b[0m\u001b[0;34m)\u001b[0m\u001b[0;34m\u001b[0m\u001b[0;34m\u001b[0m\u001b[0m\n\u001b[0m",
            "\u001b[0;32m<ipython-input-31-2c66808872e6>\u001b[0m in \u001b[0;36m<lambda>\u001b[0;34m(x)\u001b[0m\n\u001b[0;32m----> 1\u001b[0;31m \u001b[0mnotas_atualizadas\u001b[0m \u001b[0;34m=\u001b[0m\u001b[0;32mlambda\u001b[0m \u001b[0mx\u001b[0m\u001b[0;34m:\u001b[0m \u001b[0mx\u001b[0m \u001b[0;34m+\u001b[0m \u001b[0mqualitativo\u001b[0m\u001b[0;34m\u001b[0m\u001b[0;34m\u001b[0m\u001b[0m\n\u001b[0m\u001b[1;32m      2\u001b[0m \u001b[0mnotas_atualizadas\u001b[0m\u001b[0;34m(\u001b[0m\u001b[0mnotas\u001b[0m\u001b[0;34m)\u001b[0m\u001b[0;34m\u001b[0m\u001b[0;34m\u001b[0m\u001b[0m\n",
            "\u001b[0;31mTypeError\u001b[0m: can only concatenate list (not \"float\") to list"
          ]
        }
      ]
    },
    {
      "cell_type": "code",
      "source": [
        "  #Não conseguimos aplicar o lambda em listas direto, é necessário\n",
        "  #utilizarmos junto a ela a função map\n",
        "notas_atualizadas = map(lambda x: x + qualitativo, notas)\n",
        "notas_atualizadas"
      ],
      "metadata": {
        "colab": {
          "base_uri": "https://localhost:8080/"
        },
        "id": "TpKAIkPvg08z",
        "outputId": "22b80d9f-520c-43b0-9168-cbd7a2010b15"
      },
      "execution_count": null,
      "outputs": [
        {
          "output_type": "execute_result",
          "data": {
            "text/plain": [
              "<map at 0x7f4d339b1ea0>"
            ]
          },
          "metadata": {},
          "execution_count": 34
        }
      ]
    },
    {
      "cell_type": "code",
      "source": [
        "notas_atualizadas =list(notas_atualizadas)"
      ],
      "metadata": {
        "id": "RM0SyXsehvkY",
        "colab": {
          "base_uri": "https://localhost:8080/",
          "height": 141
        },
        "outputId": "8b2fe58d-86dc-4299-ed3a-90be5a2cfb9c"
      },
      "execution_count": null,
      "outputs": [
        {
          "output_type": "error",
          "ename": "NameError",
          "evalue": "name 'notas_atualizadas' is not defined",
          "traceback": [
            "\u001b[0;31m---------------------------------------------------------------------------\u001b[0m",
            "\u001b[0;31mNameError\u001b[0m                                 Traceback (most recent call last)",
            "\u001b[0;32m<ipython-input-13-5f40c24628ad>\u001b[0m in \u001b[0;36m<cell line: 0>\u001b[0;34m()\u001b[0m\n\u001b[0;32m----> 1\u001b[0;31m \u001b[0mnotas_atualizadas\u001b[0m \u001b[0;34m=\u001b[0m\u001b[0mlist\u001b[0m\u001b[0;34m(\u001b[0m\u001b[0mnotas_atualizadas\u001b[0m\u001b[0;34m)\u001b[0m\u001b[0;34m\u001b[0m\u001b[0;34m\u001b[0m\u001b[0m\n\u001b[0m",
            "\u001b[0;31mNameError\u001b[0m: name 'notas_atualizadas' is not defined"
          ]
        }
      ]
    },
    {
      "cell_type": "code",
      "source": [
        "notas_atualizadas"
      ],
      "metadata": {
        "colab": {
          "base_uri": "https://localhost:8080/"
        },
        "id": "ju4H65bKhvhI",
        "outputId": "62e4d725-fd14-4837-895d-147c99565896"
      },
      "execution_count": null,
      "outputs": [
        {
          "output_type": "execute_result",
          "data": {
            "text/plain": [
              "[6.5, 7.5, 9.5, 6.0, 8.5]"
            ]
          },
          "metadata": {},
          "execution_count": 36
        }
      ]
    },
    {
      "cell_type": "code",
      "source": [
        "notas"
      ],
      "metadata": {
        "colab": {
          "base_uri": "https://localhost:8080/"
        },
        "id": "QAcWC3eziIf_",
        "outputId": "87eb4771-31de-4849-ac31-6c636847ebd1"
      },
      "execution_count": null,
      "outputs": [
        {
          "output_type": "execute_result",
          "data": {
            "text/plain": [
              "[6.0, 7.0, 9.0, 5.5, 8.0]"
            ]
          },
          "metadata": {},
          "execution_count": 37
        }
      ]
    },
    {
      "cell_type": "markdown",
      "source": [
        "litas de listas\n",
        "[a1, a2,...,an] , [b1, b2,...,], [n1,n2,...,nn],\n"
      ],
      "metadata": {
        "id": "sEXW1OxQjNw1"
      }
    },
    {
      "cell_type": "markdown",
      "source": [
        "ituação 6\n",
        "Recebemos a demanda de transformar uma lista com o nome e as notas dos três trimestres de estudantes em uma lista simples com os nomes separados das notas e uma lista de listas com as três notas de cada estudante separadas umas das outras.\n",
        "\n",
        "Os dados recebidos correspondem a uma lista com os nomes e as respectivas notas de cada estudante. Vamos resolver esse desafio? Para facilitar o nosso entendimento do processo vamos trabalhar com uma turma fictícia de 5 estudantes."
      ],
      "metadata": {
        "id": "RV1FzgMQj0I7"
      }
    },
    {
      "cell_type": "code",
      "source": [
        "notas_turma = ['João', 8.0, 9.0, 10.0, 'Maria', 9.0, 7.0, 6.0, 'José', 3.4, 7.0, 7.0, 'Cláudia', 5.5, 6.6, 8.0, 'Ana', 6.0, 10.0, 9.5]\n"
      ],
      "metadata": {
        "id": "DS3H528nj-Mg"
      },
      "execution_count": null,
      "outputs": []
    },
    {
      "cell_type": "code",
      "source": [
        "nomes = []\n",
        "notas_juntas = []\n",
        "for i in range(len(notas_turma)):\n",
        "    if i % 4 == 0:\n",
        "        nomes.append(notas_turma[i])\n",
        "    else:\n",
        "        notas_juntas.append(notas_turma[i])\n"
      ],
      "metadata": {
        "id": "7CsqU_VklIdF"
      },
      "execution_count": null,
      "outputs": []
    },
    {
      "cell_type": "code",
      "source": [
        "nomes"
      ],
      "metadata": {
        "colab": {
          "base_uri": "https://localhost:8080/"
        },
        "id": "8Gt7cl5zlIYJ",
        "outputId": "7e73b0b8-377c-4ae6-d1e3-42848f6bb109"
      },
      "execution_count": null,
      "outputs": [
        {
          "output_type": "execute_result",
          "data": {
            "text/plain": [
              "['João', 'Maria', 'José', 'Cláudia', 'Ana']"
            ]
          },
          "metadata": {},
          "execution_count": 15
        }
      ]
    },
    {
      "cell_type": "code",
      "source": [
        "notas_juntas"
      ],
      "metadata": {
        "colab": {
          "base_uri": "https://localhost:8080/"
        },
        "id": "cQbwGu07muw8",
        "outputId": "4fd5ddf7-c79a-41c4-a96a-6baa3a647963"
      },
      "execution_count": null,
      "outputs": [
        {
          "output_type": "execute_result",
          "data": {
            "text/plain": [
              "[8.0, 9.0, 10.0, 9.0, 7.0, 6.0, 3.4, 7.0, 7.0, 5.5, 6.6, 8.0, 6.0, 10.0, 9.5]"
            ]
          },
          "metadata": {},
          "execution_count": 16
        }
      ]
    },
    {
      "cell_type": "code",
      "source": [
        "notas = []\n",
        "for i in range(0, len(notas_juntas), 3):\n",
        "    notas.append([notas_juntas[i], notas_juntas[i+1], notas_juntas[i+2]])\n",
        "notas\n"
      ],
      "metadata": {
        "colab": {
          "base_uri": "https://localhost:8080/"
        },
        "id": "vc0qtDcWn5Pm",
        "outputId": "4ee4c2f7-dc2e-4ff5-91a7-460e20c6d55a"
      },
      "execution_count": null,
      "outputs": [
        {
          "output_type": "execute_result",
          "data": {
            "text/plain": [
              "[[8.0, 9.0, 10.0],\n",
              " [9.0, 7.0, 6.0],\n",
              " [3.4, 7.0, 7.0],\n",
              " [5.5, 6.6, 8.0],\n",
              " [6.0, 10.0, 9.5]]"
            ]
          },
          "metadata": {},
          "execution_count": 17
        }
      ]
    },
    {
      "cell_type": "code",
      "source": [
        "notas[0]"
      ],
      "metadata": {
        "colab": {
          "base_uri": "https://localhost:8080/"
        },
        "id": "q6_f2FyRpmIC",
        "outputId": "58beaf38-9191-4409-d93b-078d2ba46efe"
      },
      "execution_count": null,
      "outputs": [
        {
          "output_type": "execute_result",
          "data": {
            "text/plain": [
              "[8.0, 9.0, 10.0]"
            ]
          },
          "metadata": {},
          "execution_count": 18
        }
      ]
    },
    {
      "cell_type": "code",
      "source": [
        "notas[0][2]"
      ],
      "metadata": {
        "colab": {
          "base_uri": "https://localhost:8080/"
        },
        "id": "PRons3Ovp53R",
        "outputId": "b9ca34de-accf-4427-a48b-54ad92376ab5"
      },
      "execution_count": null,
      "outputs": [
        {
          "output_type": "execute_result",
          "data": {
            "text/plain": [
              "10.0"
            ]
          },
          "metadata": {},
          "execution_count": 19
        }
      ]
    },
    {
      "cell_type": "markdown",
      "source": [
        "Situação 7\n",
        "Nesta nova demanda, precisamos gerar uma lista de tuplas com os nomes dos estudantes e o código ID de cada um para a plataforma de análise dos dados. A criação do código consiste em concatenar a primeira letra do nome do estudante a um número aleatório de 0 a 999. Os dados recebidos correspondem a uma lista dos nomes de cada estudante.\n",
        "\n",
        "Vamos resolver esse desafio?\n",
        "\n",
        "Para facilitar o nosso entendimento do processo vamos trabalhar com uma turma fictícia de 5 estudantes. Vamos rodar o código!\n"
      ],
      "metadata": {
        "id": "YhvnE7U2xRWp"
      }
    },
    {
      "cell_type": "code",
      "source": [
        "estudantes = [\"joão\", \"maria\", \"José\", \"Claudia\", \"Ana\"]\n",
        "estudantes"
      ],
      "metadata": {
        "colab": {
          "base_uri": "https://localhost:8080/"
        },
        "id": "VT8iB95Cz88r",
        "outputId": "64aaed41-6da8-4760-abbc-9430d3cfd0d7"
      },
      "execution_count": null,
      "outputs": [
        {
          "output_type": "execute_result",
          "data": {
            "text/plain": [
              "['joão', 'maria', 'José', 'Claudia', 'Ana']"
            ]
          },
          "metadata": {},
          "execution_count": 23
        }
      ]
    },
    {
      "cell_type": "code",
      "source": [
        "from random import randint\n",
        "\n",
        "def gera_codigo():\n",
        "  return str(randint(0,999))"
      ],
      "metadata": {
        "id": "odm0Sx2f0Bq_"
      },
      "execution_count": null,
      "outputs": []
    },
    {
      "cell_type": "code",
      "source": [
        "codigo_estudantes = []\n",
        "\n",
        "for i in range(len(estudantes)):\n",
        "    codigo_estudantes.append((estudantes[i], estudantes[i][0] + gera_codigo()))\n",
        "\n",
        "codigo_estudantes\n"
      ],
      "metadata": {
        "colab": {
          "base_uri": "https://localhost:8080/"
        },
        "id": "e-2cn8_z0pmL",
        "outputId": "32ff5ef4-3a72-4a6a-af0a-759deabb0506"
      },
      "execution_count": null,
      "outputs": [
        {
          "output_type": "execute_result",
          "data": {
            "text/plain": [
              "[('joão', 'j932'),\n",
              " ('maria', 'm76'),\n",
              " ('José', 'J844'),\n",
              " ('Claudia', 'C603'),\n",
              " ('Ana', 'A990')]"
            ]
          },
          "metadata": {},
          "execution_count": 28
        }
      ]
    },
    {
      "cell_type": "markdown",
      "source": [
        "Situação 8\n",
        "Recebemos a demanda de criar uma lista com as médias dos estudantes da lista de listas que criamos na Situação 6. Lembrando que cada lista da lista de listas possui as três notas de cada estudante.\n",
        "\n",
        "Vamos resolver esse desafio?"
      ],
      "metadata": {
        "id": "MmD8-kHs2WY6"
      }
    },
    {
      "cell_type": "markdown",
      "source": [
        "[espressâo for iotem in lista"
      ],
      "metadata": {
        "id": "wyN_inf32zio"
      }
    },
    {
      "cell_type": "code",
      "source": [
        "notas =[[8.0, 9.0, 10.0],[9.0, 7.0, 6.0],[3.4, 7.0, 7.0],[5.5, 6.6, 8.0],[6.0, 10.0,9.5]]\n"
      ],
      "metadata": {
        "id": "RHHd4F8c2Xop"
      },
      "execution_count": null,
      "outputs": []
    },
    {
      "cell_type": "code",
      "source": [
        "def media(lista: list=[0]) ->float:\n",
        "\n",
        "  calculo =sum(lista) / len(lista)\n",
        "  return calculo"
      ],
      "metadata": {
        "id": "Kj4fgEEU3lvm"
      },
      "execution_count": null,
      "outputs": []
    },
    {
      "cell_type": "code",
      "source": [
        "medias =[round(media(nota),1) for nota in notas]\n",
        "medias\n",
        "\n"
      ],
      "metadata": {
        "colab": {
          "base_uri": "https://localhost:8080/"
        },
        "id": "4DlDfHvz4Ovk",
        "outputId": "81b0376c-4d8f-4b24-d050-5164e4769321"
      },
      "execution_count": null,
      "outputs": [
        {
          "output_type": "execute_result",
          "data": {
            "text/plain": [
              "[9.0, 7.3, 5.8, 6.7, 8.5]"
            ]
          },
          "metadata": {},
          "execution_count": 42
        }
      ]
    },
    {
      "cell_type": "markdown",
      "source": [
        "Situação 9\n",
        "Agora, precisamos utilizar as médias calculadas no exemplo anterior, pareando com o nome dos estudantes. Isto será necessário para gerar uma lista que selecione aqueles estudantes que possuam uma média final maior ou igual a 8 para concorrer a uma bolsa para o próximo ano letivo.\n",
        "\n",
        "Os dados recebidos correspondem a uma lista de tuplas com os nomes e códigos dos estudantes e a lista de médias calculadas logo acima.\n",
        "\n",
        "Vamos resolver esse desafio?"
      ],
      "metadata": {
        "id": "75RjprfhAnXU"
      }
    },
    {
      "cell_type": "markdown",
      "source": [
        "[expr for item in lista if cond]"
      ],
      "metadata": {
        "id": "I1h-gYfBAvHW"
      }
    },
    {
      "cell_type": "code",
      "source": [
        "nomes = [('João', 'J720'), ('Maria', 'M205'), ('José', 'J371'), ('Cláudia', 'C546'), ('Ana', 'A347')]\n",
        "medias = [9.0, 7.3, 5.8, 6.7, 8.5]"
      ],
      "metadata": {
        "id": "KPhEiTY7ApZ0"
      },
      "execution_count": null,
      "outputs": []
    },
    {
      "cell_type": "code",
      "source": [
        "nomes =[nome[0] for nome in nomes]\n",
        "nomes"
      ],
      "metadata": {
        "colab": {
          "base_uri": "https://localhost:8080/"
        },
        "id": "JUMhCTRbA_7T",
        "outputId": "50fcb4e0-8fc8-40f5-a149-d58fb07abef3"
      },
      "execution_count": null,
      "outputs": [
        {
          "output_type": "execute_result",
          "data": {
            "text/plain": [
              "['J', 'M', 'J', 'C', 'A']"
            ]
          },
          "metadata": {},
          "execution_count": 58
        }
      ]
    },
    {
      "cell_type": "code",
      "source": [
        "estudantes =list(zip(nomes, medias))\n",
        "estudantes"
      ],
      "metadata": {
        "colab": {
          "base_uri": "https://localhost:8080/"
        },
        "id": "vJhjIu7-DHYP",
        "outputId": "383b811b-9b7f-4354-9779-8567bb754105"
      },
      "execution_count": null,
      "outputs": [
        {
          "output_type": "execute_result",
          "data": {
            "text/plain": [
              "[('J', 9.0), ('M', 7.3), ('J', 5.8), ('C', 6.7), ('A', 8.5)]"
            ]
          },
          "metadata": {},
          "execution_count": 61
        }
      ]
    },
    {
      "cell_type": "code",
      "source": [
        "candidatos =[estudante[0] for estudante in estudantes if estudante[1]>= 8.0]\n",
        "candidatos"
      ],
      "metadata": {
        "colab": {
          "base_uri": "https://localhost:8080/"
        },
        "id": "Wu17ENzcDcbz",
        "outputId": "f8e8380e-46c9-4d7e-a85b-e1b970f21bb0"
      },
      "execution_count": null,
      "outputs": [
        {
          "output_type": "execute_result",
          "data": {
            "text/plain": [
              "['J', 'A']"
            ]
          },
          "metadata": {},
          "execution_count": 62
        }
      ]
    },
    {
      "cell_type": "markdown",
      "source": [
        "Recebemos duas demandas a respeito desse projeto com as notas dos estudantes:\n",
        "\n",
        "Criar uma lista da situação dos estudantes em que caso sua média seja maior ou igual a 6 receberá o valor \"Aprovado\" e caso contrário receberá o valor \"Reprovado\".\n",
        "\n",
        "Gerar uma lista de listas com:\n",
        "\n",
        "Lista de tuplas com o nome dos estudantes e seus códigos.\n",
        "\n",
        "Lista de listas com as notas de cada estudante.\n",
        "\n",
        "Lista com as médias de cada estudante.\n",
        "\n",
        "Lista da situação dos estudantes de acordo com as médias.\n",
        "\n",
        "Os dados que utilizaremos são os mesmos que geramos nas situações anteriores (nomes, notas, medias).\n",
        "\n",
        "Vamos resolver esse desafio?"
      ],
      "metadata": {
        "id": "Abh5A8YNESsZ"
      }
    },
    {
      "cell_type": "markdown",
      "source": [
        "situacao = [resultado_if if cond else resultado_else for item in lista]"
      ],
      "metadata": {
        "id": "gsdHUPuKE3Sv"
      }
    },
    {
      "cell_type": "code",
      "source": [
        "nomes = [('João', 'J720'), ('Maria', 'M205'), ('José', 'J371'), ('Cláudia', 'C546'), ('Ana', 'A347')]\n",
        "notas = [[8.0, 9.0, 10.0], [9.0, 7.0, 6.0], [3.4, 7.0, 7.0], [5.5, 6.6, 8.0], [6.0, 10.0, 9.5]]\n",
        "medias = [9.0, 7.3, 5.8, 6.7, 8.5]"
      ],
      "metadata": {
        "id": "4LdYHMp6EUFR"
      },
      "execution_count": null,
      "outputs": []
    },
    {
      "cell_type": "code",
      "source": [
        "situacao = [\"Aprovado(a)\" if media >= 6  else \"Reprovado(a)\" for media in medias]\n",
        "situacao"
      ],
      "metadata": {
        "colab": {
          "base_uri": "https://localhost:8080/"
        },
        "id": "p3x8Kr7ME49g",
        "outputId": "7f2af7fd-407c-4291-b106-3547ac82b633"
      },
      "execution_count": null,
      "outputs": [
        {
          "output_type": "execute_result",
          "data": {
            "text/plain": [
              "['Aprovado(a)', 'Aprovado(a)', 'Reprovado(a)', 'Aprovado(a)', 'Aprovado(a)']"
            ]
          },
          "metadata": {},
          "execution_count": 68
        }
      ]
    },
    {
      "cell_type": "code",
      "source": [
        "cadastro =[x for x in [nomes, notas, medias, situacao]]\n",
        "cadastro"
      ],
      "metadata": {
        "colab": {
          "base_uri": "https://localhost:8080/"
        },
        "id": "NhBn2u00FzyI",
        "outputId": "409a1e7a-be7d-40f6-a5dd-e675f139a9ea"
      },
      "execution_count": null,
      "outputs": [
        {
          "output_type": "execute_result",
          "data": {
            "text/plain": [
              "[[('João', 'J720'),\n",
              "  ('Maria', 'M205'),\n",
              "  ('José', 'J371'),\n",
              "  ('Cláudia', 'C546'),\n",
              "  ('Ana', 'A347')],\n",
              " [[8.0, 9.0, 10.0],\n",
              "  [9.0, 7.0, 6.0],\n",
              "  [3.4, 7.0, 7.0],\n",
              "  [5.5, 6.6, 8.0],\n",
              "  [6.0, 10.0, 9.5]],\n",
              " [9.0, 7.3, 5.8, 6.7, 8.5],\n",
              " ['Aprovado(a)', 'Aprovado(a)', 'Reprovado(a)', 'Aprovado(a)', 'Aprovado(a)']]"
            ]
          },
          "metadata": {},
          "execution_count": 71
        }
      ]
    },
    {
      "cell_type": "code",
      "source": [
        "lista_completa =[nomes, notas, medias, situacao]\n",
        "lista_completa"
      ],
      "metadata": {
        "colab": {
          "base_uri": "https://localhost:8080/"
        },
        "id": "cGMl7nIHFp4u",
        "outputId": "3ae7a4ea-302b-430b-ca39-8469228dd557"
      },
      "execution_count": null,
      "outputs": [
        {
          "output_type": "execute_result",
          "data": {
            "text/plain": [
              "[[('João', 'J720'),\n",
              "  ('Maria', 'M205'),\n",
              "  ('José', 'J371'),\n",
              "  ('Cláudia', 'C546'),\n",
              "  ('Ana', 'A347')],\n",
              " [[8.0, 9.0, 10.0],\n",
              "  [9.0, 7.0, 6.0],\n",
              "  [3.4, 7.0, 7.0],\n",
              "  [5.5, 6.6, 8.0],\n",
              "  [6.0, 10.0, 9.5]],\n",
              " [9.0, 7.3, 5.8, 6.7, 8.5],\n",
              " ['Aprovado(a)', 'Aprovado(a)', 'Reprovado(a)', 'Aprovado(a)', 'Aprovado(a)']]"
            ]
          },
          "metadata": {},
          "execution_count": 75
        }
      ]
    },
    {
      "cell_type": "markdown",
      "source": [
        "Situação 11\n",
        "Agora, a nossa demanda consiste em gerar um dicionário a partir da lista de listas que criamos na Situação 10 para passá-la à pessoa responsável por construir as tabelas, possibilitando a análise dos dados.\n",
        "\n",
        "As chaves do nosso dicionário serão as colunas identificando o tipo de dado.\n",
        "\n",
        "Os valores serão as listas com os dados correspondentes àquela chave.\n",
        "\n",
        "Isso é muito comum na ciência de dados, inclusive quando trabalhamos com estruturas como dataframes, uma forma de apresentação do dado com tabelas. Aqui, não aprenderemos todo esse ferramental, mas entenderemos um pouco de como funciona a construção desse tipo de estrutura.\n",
        "\n",
        "Vamos resolver esse desafio?"
      ],
      "metadata": {
        "id": "E7LvWpmCOoq6"
      }
    },
    {
      "cell_type": "markdown",
      "source": [
        " formato: {chave: valor for item in lista}"
      ],
      "metadata": {
        "id": "3jwoNZtaOy_X"
      }
    },
    {
      "cell_type": "code",
      "source": [
        "lista_completa = [[('João', 'J720'), ('Maria', 'M205'), ('José', 'J371'), ('Cláudia', 'C546'), ('Ana', 'A347')],\n",
        "                  [[8.0, 9.0, 10.0], [9.0, 7.0, 6.0], [3.4, 7.0, 7.0], [5.5, 6.6, 8.0], [6.0, 10.0, 9.5]],\n",
        "                  [9.0, 7.3, 5.8, 6.7, 8.5],\n",
        "                  ['Aprovado', 'Aprovado', 'Reprovado', 'Aprovado', 'Aprovado']]"
      ],
      "metadata": {
        "id": "X86d2Es6OqHQ"
      },
      "execution_count": null,
      "outputs": []
    },
    {
      "cell_type": "code",
      "source": [
        "coluna = [\"notas\" ,\"media Final\", \"Situação\"]\n",
        "cadastro = {coluna[i]: lista_completa[i+1] for i in range(len(coluna))}\n",
        "cadastro"
      ],
      "metadata": {
        "colab": {
          "base_uri": "https://localhost:8080/"
        },
        "id": "G5ikZkC3O0Ww",
        "outputId": "6dc463c9-01e2-4d0e-cfea-1f9b54fad883"
      },
      "execution_count": null,
      "outputs": [
        {
          "output_type": "execute_result",
          "data": {
            "text/plain": [
              "{'notas': [[8.0, 9.0, 10.0],\n",
              "  [9.0, 7.0, 6.0],\n",
              "  [3.4, 7.0, 7.0],\n",
              "  [5.5, 6.6, 8.0],\n",
              "  [6.0, 10.0, 9.5]],\n",
              " 'media Final': [9.0, 7.3, 5.8, 6.7, 8.5],\n",
              " 'Situação': ['Aprovado', 'Aprovado', 'Reprovado', 'Aprovado', 'Aprovado']}"
            ]
          },
          "metadata": {},
          "execution_count": 6
        }
      ]
    },
    {
      "cell_type": "code",
      "source": [
        "cadastro[\"Estudante\"] = [lista_completa[0][i][0] for i in range(len(lista_completa[0]))]\n",
        "cadastro"
      ],
      "metadata": {
        "id": "IoddMMLNQML0",
        "colab": {
          "base_uri": "https://localhost:8080/"
        },
        "outputId": "6ccbc620-072c-445f-87f2-efcd591f07b8"
      },
      "execution_count": 8,
      "outputs": [
        {
          "output_type": "execute_result",
          "data": {
            "text/plain": [
              "{'notas': [[8.0, 9.0, 10.0],\n",
              "  [9.0, 7.0, 6.0],\n",
              "  [3.4, 7.0, 7.0],\n",
              "  [5.5, 6.6, 8.0],\n",
              "  [6.0, 10.0, 9.5]],\n",
              " 'media Final': [9.0, 7.3, 5.8, 6.7, 8.5],\n",
              " 'Situação': ['Aprovado', 'Aprovado', 'Reprovado', 'Aprovado', 'Aprovado'],\n",
              " 'Estudante': ['João', 'Maria', 'José', 'Cláudia', 'Ana']}"
            ]
          },
          "metadata": {},
          "execution_count": 8
        }
      ]
    },
    {
      "cell_type": "markdown",
      "source": [
        "Situação 12: Você criou um código que lê um dicionário com as notas dos estudantes e quis retornar a lista de notas de determinado(a) estudante. Caso o(a) estudante não esteja matriculado(a) na turma, devemos tratar a exceção para aparecer a mensagem \"Estudante não matriculado(a) na turma\". Vamos trabalhar nesse exemplo com a exceção Key Error que interromperá o processo desse pedaço do código. Vamos testar esse primeiro tratamento?\n",
        "\n",
        "Iniciaremos passando nosso dicionário notas com a chave de nome dos estudantes e a lista de 3 notas de cada um desses estudantes:"
      ],
      "metadata": {
        "id": "tROyqHwWUU22"
      }
    },
    {
      "cell_type": "code",
      "source": [
        "notas = {'João': [8.0, 9.0, 10.0], 'Maria': [9.0, 7.0, 6.0], 'José': [3.4, 7.0, 8.0],'Cláudia': [5.5, 6.6, 8.0], 'Ana': [6.0, 10.0, 9.5], 'Joaquim': [5.5, 7.5, 9.0], 'Júlia': [6.0, 8.0, 7.0], 'Pedro': [3.0, 4.0, 6.0]}"
      ],
      "metadata": {
        "id": "skDxvBMiUWT8"
      },
      "execution_count": 9,
      "outputs": []
    },
    {
      "cell_type": "code",
      "source": [
        "nome = input(\"Digite o nome do(a) estudanote: \")\n",
        "resultado =notas[nome]\n",
        "resultado"
      ],
      "metadata": {
        "colab": {
          "base_uri": "https://localhost:8080/"
        },
        "id": "GJo2OUM3Uo4i",
        "outputId": "4f4d6728-208a-4e22-8a41-6a3a83c24ea8"
      },
      "execution_count": 12,
      "outputs": [
        {
          "name": "stdout",
          "output_type": "stream",
          "text": [
            "Digite o nome do(a) estudanote: Maria\n"
          ]
        },
        {
          "output_type": "execute_result",
          "data": {
            "text/plain": [
              "[9.0, 7.0, 6.0]"
            ]
          },
          "metadata": {},
          "execution_count": 12
        }
      ]
    },
    {
      "cell_type": "code",
      "source": [
        "try:\n",
        "  nome =input(\"Digite o nome do(a) estudante:\")\n",
        "  resultado = notas[nome]\n",
        "except Exception  as e:\n",
        " print(type(e), f\"Erro: {e}\" )\n",
        "\n"
      ],
      "metadata": {
        "colab": {
          "base_uri": "https://localhost:8080/"
        },
        "id": "PLyopspVVAGI",
        "outputId": "bb3ede91-c3bd-4a23-a3b1-296b51cbfe2b"
      },
      "execution_count": 16,
      "outputs": [
        {
          "output_type": "stream",
          "name": "stdout",
          "text": [
            "Digite o nome do(a) estudante:Mirla\n",
            "<class 'KeyError'> Erro: 'Mirla'\n"
          ]
        }
      ]
    },
    {
      "cell_type": "code",
      "source": [
        "try:\n",
        "  nome =input(\"Digite o nome do(a) estudante:\")\n",
        "  resultado = notas[nome]\n",
        "except KeyError:\n",
        " print(\"Estudanote nâo matriculado(a) na turma\" )\n"
      ],
      "metadata": {
        "colab": {
          "base_uri": "https://localhost:8080/"
        },
        "id": "uK20GJzhWje1",
        "outputId": "60dfadfe-8977-424e-bf8e-71601d43c75c"
      },
      "execution_count": 17,
      "outputs": [
        {
          "output_type": "stream",
          "name": "stdout",
          "text": [
            "Digite o nome do(a) estudante:Marcelo\n",
            "Estudanote nâo matriculado(a) na turma\n"
          ]
        }
      ]
    },
    {
      "cell_type": "markdown",
      "source": [],
      "metadata": {
        "id": "nN6KvbqjXRmG"
      }
    },
    {
      "cell_type": "markdown",
      "source": [
        "Situação 13: Você criou um código que lê um dicionário com as notas dos estudantes e quis retornar a lista de notas de determinado(a) estudante. Caso o(a) estudante não esteja matriculado(a) na classe devemos tratar a exceção para aparecer a mensagem \"Estudante não matriculado(a) na turma\", e se a exceção não for lançada devemos exibir a lista com as notas do(a) estudante. Vamos trabalhar nesse exemplo com a exceção Key Error que interromperá o processo desse pedaço do código. Vamos testar esse tratamento?"
      ],
      "metadata": {
        "id": "nm3ImumWXeZ7"
      }
    },
    {
      "cell_type": "code",
      "source": [
        "notas = {'João': [8.0, 9.0, 10.0], 'Maria': [9.0, 7.0, 6.0], 'José': [3.4, 7.0, 8.0],'Cláudia': [5.5, 6.6, 8.0], 'Ana': [6.0, 10.0, 9.5], 'Joaquim': [5.5, 7.5, 9.0], 'Júlia': [6.0, 8.0, 7.0], 'Pedro': [3.0, 4.0, 6.0]}"
      ],
      "metadata": {
        "id": "ZIw_ZrnBXdPL"
      },
      "execution_count": 18,
      "outputs": []
    },
    {
      "cell_type": "code",
      "source": [
        "try:\n",
        "    nome = input(\"Digite o nome do(a) estudante: \")\n",
        "    resultado = notas[nome]\n",
        "except KeyError:\n",
        "    print(\"Estudante não matriculado(a) na turma\")\n",
        "else:\n",
        "    print(resultado)"
      ],
      "metadata": {
        "colab": {
          "base_uri": "https://localhost:8080/"
        },
        "id": "bOIMrpsnX2K9",
        "outputId": "39466af4-d4e5-455d-a0ec-2f12f1c393fd"
      },
      "execution_count": 19,
      "outputs": [
        {
          "output_type": "stream",
          "name": "stdout",
          "text": [
            "Digite o nome do(a) estudante: Joaquim\n",
            "[5.5, 7.5, 9.0]\n"
          ]
        }
      ]
    },
    {
      "cell_type": "markdown",
      "source": [
        "Situação 14: Você criou um código que lê um dicionário com as notas dos estudantes e quis retornar a lista de notas de um estudante. Caso o(a) estudante não esteja matriculado(a) na classe devemos tratar a exceção para aparecer a mensagem \"Estudante não matriculado(a) na turma\" e se a exceção não for lançada devemos exibir a lista com as notas do(a) estudante. Um texto avisando que \"A consulta foi encerrada!\" deve ser exibido com ou sem a exceção ser lançada. Vamos trabalhar nesse exemplo com a exceção Key Error que interromperá o processo desse pedaço do codigo. Vamos testar esse tratamento?"
      ],
      "metadata": {
        "id": "liKqw7XCYzeq"
      }
    },
    {
      "cell_type": "code",
      "source": [
        "notas = {'João': [8.0, 9.0, 10.0], 'Maria': [9.0, 7.0, 6.0], 'José': [3.4, 7.0, 8.0],'Cláudia': [5.5, 6.6, 8.0], 'Ana': [6.0, 10.0, 9.5], 'Joaquim': [5.5, 7.5, 9.0], 'Júlia': [6.0, 8.0, 7.0], 'Pedro': [3.0, 4.0, 6.0]}"
      ],
      "metadata": {
        "id": "kB4D2EKRY0oA"
      },
      "execution_count": 20,
      "outputs": []
    },
    {
      "cell_type": "code",
      "source": [
        "try:\n",
        "    nome = input(\"Digite o nome do(a) estudante: \")\n",
        "    resultado = notas[nome]\n",
        "except KeyError:\n",
        "    print(\"Estudante não matriculado(a) na turma\")\n",
        "else:\n",
        "    print(resultado)\n",
        "finally:\n",
        "    print(\"A consulta foi encerrada!\")"
      ],
      "metadata": {
        "colab": {
          "base_uri": "https://localhost:8080/"
        },
        "id": "jLe7JVpwY4qf",
        "outputId": "960e340e-bcf4-4bb8-f1e2-f79053b3cc5e"
      },
      "execution_count": 21,
      "outputs": [
        {
          "output_type": "stream",
          "name": "stdout",
          "text": [
            "Digite o nome do(a) estudante: José\n",
            "[3.4, 7.0, 8.0]\n",
            "A consulta foi encerrada!\n"
          ]
        }
      ]
    },
    {
      "cell_type": "markdown",
      "source": [],
      "metadata": {
        "id": "x6q3QhEHh8zL"
      }
    }
  ]
}